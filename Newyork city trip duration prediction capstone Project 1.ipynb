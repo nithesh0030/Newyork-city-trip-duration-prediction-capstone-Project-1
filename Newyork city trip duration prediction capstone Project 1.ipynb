{
 "cells": [
  {
   "cell_type": "markdown",
   "id": "7a42e81b",
   "metadata": {},
   "source": [
    "# NYC Taxi Trip Duration Prediction"
   ]
  },
  {
   "cell_type": "markdown",
   "id": "77e6cdd1",
   "metadata": {},
   "source": [
    "The NYC taxi trip duration dataset is a dataset released by the NYC Taxi and Limousine Commission, \n",
    "which includes several features like pickup time, dropoff time, pickup coordinates etc as possible predictors for prediction of taxi trip duration. \n",
    "The aim of this project is to accurately predict the trip duration using a regression model, using (but not limited to) the above features. \n",
    "This project also focuses on selecting the best combination of input features for accurate prediction, by combining both logical reasoning and iterations."
   ]
  },
  {
   "cell_type": "markdown",
   "id": "50f55e19",
   "metadata": {},
   "source": [
    "# Importing Libraries"
   ]
  },
  {
   "cell_type": "code",
   "execution_count": 1,
   "id": "5a9a0d05",
   "metadata": {},
   "outputs": [],
   "source": [
    "import pandas as pd\n",
    "import numpy as np\n",
    "import matplotlib.pyplot as plt\n",
    "%matplotlib inline"
   ]
  },
  {
   "cell_type": "markdown",
   "id": "3df40de0",
   "metadata": {},
   "source": [
    "# Importing Dataset"
   ]
  },
  {
   "cell_type": "code",
   "execution_count": 2,
   "id": "6c0700dd",
   "metadata": {},
   "outputs": [
    {
     "name": "stdout",
     "output_type": "stream",
     "text": [
      "C:\\Users\\ailla\\Downloads\\Python\n"
     ]
    }
   ],
   "source": [
    "import io \n",
    "%cd \"C:\\Users\\ailla\\Downloads\\Python\""
   ]
  },
  {
   "cell_type": "code",
   "execution_count": 3,
   "id": "6cee5752",
   "metadata": {},
   "outputs": [],
   "source": [
    "# !pip install pyarrow"
   ]
  },
  {
   "cell_type": "code",
   "execution_count": 4,
   "id": "ab8effe1",
   "metadata": {},
   "outputs": [],
   "source": [
    "newyork=pd.read_parquet('newyork.parquet',engine=\"pyarrow\")"
   ]
  },
  {
   "cell_type": "markdown",
   "id": "e8cb78b7",
   "metadata": {},
   "source": [
    "# Dataset information"
   ]
  },
  {
   "cell_type": "code",
   "execution_count": 5,
   "id": "bad15bbd",
   "metadata": {},
   "outputs": [
    {
     "name": "stdout",
     "output_type": "stream",
     "text": [
      "<class 'pandas.core.frame.DataFrame'>\n",
      "RangeIndex: 64809 entries, 0 to 64808\n",
      "Data columns (total 20 columns):\n",
      " #   Column                 Non-Null Count  Dtype         \n",
      "---  ------                 --------------  -----         \n",
      " 0   VendorID               64809 non-null  int32         \n",
      " 1   lpep_pickup_datetime   64809 non-null  datetime64[ns]\n",
      " 2   lpep_dropoff_datetime  64809 non-null  datetime64[ns]\n",
      " 3   store_and_fwd_flag     59988 non-null  object        \n",
      " 4   RatecodeID             59988 non-null  float64       \n",
      " 5   PULocationID           64809 non-null  int32         \n",
      " 6   DOLocationID           64809 non-null  int32         \n",
      " 7   passenger_count        59988 non-null  float64       \n",
      " 8   trip_distance          64809 non-null  float64       \n",
      " 9   fare_amount            64809 non-null  float64       \n",
      " 10  extra                  64809 non-null  float64       \n",
      " 11  mta_tax                64809 non-null  float64       \n",
      " 12  tip_amount             64809 non-null  float64       \n",
      " 13  tolls_amount           64809 non-null  float64       \n",
      " 14  ehail_fee              0 non-null      float64       \n",
      " 15  improvement_surcharge  64809 non-null  float64       \n",
      " 16  total_amount           64809 non-null  float64       \n",
      " 17  payment_type           59988 non-null  float64       \n",
      " 18  trip_type              59983 non-null  float64       \n",
      " 19  congestion_surcharge   59988 non-null  float64       \n",
      "dtypes: datetime64[ns](2), float64(14), int32(3), object(1)\n",
      "memory usage: 9.1+ MB\n"
     ]
    }
   ],
   "source": [
    "newyork.info()"
   ]
  },
  {
   "cell_type": "code",
   "execution_count": 6,
   "id": "f4382ef2",
   "metadata": {},
   "outputs": [],
   "source": [
    "newyork=newyork.drop(\"ehail_fee\",axis=1)"
   ]
  },
  {
   "cell_type": "code",
   "execution_count": 7,
   "id": "8c4cde8e",
   "metadata": {},
   "outputs": [],
   "source": [
    "catcols=['store_and_fwd_flag','RatecodeID','payment_type',\n",
    "        'trip_type']"
   ]
  },
  {
   "cell_type": "markdown",
   "id": "b98fb195",
   "metadata": {},
   "source": [
    "# Finding the missing values"
   ]
  },
  {
   "cell_type": "code",
   "execution_count": 8,
   "id": "54b2da5c",
   "metadata": {},
   "outputs": [
    {
     "name": "stdout",
     "output_type": "stream",
     "text": [
      "N       59779\n",
      "None     4821\n",
      "Y         209\n",
      "Name: store_and_fwd_flag, dtype: int64\n",
      "1.0     57911\n",
      "NaN      4821\n",
      "5.0      1828\n",
      "2.0       154\n",
      "4.0        51\n",
      "3.0        38\n",
      "99.0        5\n",
      "6.0         1\n",
      "Name: RatecodeID, dtype: int64\n",
      "1.0    38549\n",
      "2.0    20844\n",
      "NaN     4821\n",
      "3.0      481\n",
      "4.0      114\n",
      "Name: payment_type, dtype: int64\n",
      "1.0    58270\n",
      "NaN     4826\n",
      "2.0     1713\n",
      "Name: trip_type, dtype: int64\n"
     ]
    }
   ],
   "source": [
    "for col in catcols:\n",
    "    freq=newyork[col].value_counts(dropna=False)\n",
    "    print(freq)"
   ]
  },
  {
   "cell_type": "markdown",
   "id": "0e7e8033",
   "metadata": {},
   "source": [
    "# Imputing with mode or most_frequent"
   ]
  },
  {
   "cell_type": "code",
   "execution_count": 9,
   "id": "a87c7456",
   "metadata": {},
   "outputs": [],
   "source": [
    "# Impute with mode or most_frequent\n",
    "for col in catcols:\n",
    "    newyork[col]=newyork[col].fillna(\n",
    "        newyork[col].value_counts().idxmax())"
   ]
  },
  {
   "cell_type": "code",
   "execution_count": 10,
   "id": "2a92d45e",
   "metadata": {},
   "outputs": [
    {
     "data": {
      "text/plain": [
       "Index(['VendorID', 'lpep_pickup_datetime', 'lpep_dropoff_datetime',\n",
       "       'store_and_fwd_flag', 'RatecodeID', 'PULocationID', 'DOLocationID',\n",
       "       'passenger_count', 'trip_distance', 'fare_amount', 'extra', 'mta_tax',\n",
       "       'tip_amount', 'tolls_amount', 'improvement_surcharge', 'total_amount',\n",
       "       'payment_type', 'trip_type', 'congestion_surcharge'],\n",
       "      dtype='object')"
      ]
     },
     "execution_count": 10,
     "metadata": {},
     "output_type": "execute_result"
    }
   ],
   "source": [
    "newyork.columns"
   ]
  },
  {
   "cell_type": "code",
   "execution_count": 11,
   "id": "b4d62f2f",
   "metadata": {},
   "outputs": [],
   "source": [
    "numcols=['passenger_count', 'trip_distance', 'fare_amount', \n",
    "         'extra', 'mta_tax','tip_amount', 'tolls_amount', \n",
    "         'improvement_surcharge', 'total_amount',\n",
    "        'congestion_surcharge']"
   ]
  },
  {
   "cell_type": "code",
   "execution_count": 12,
   "id": "38e39a5b",
   "metadata": {},
   "outputs": [
    {
     "data": {
      "text/html": [
       "<div>\n",
       "<style scoped>\n",
       "    .dataframe tbody tr th:only-of-type {\n",
       "        vertical-align: middle;\n",
       "    }\n",
       "\n",
       "    .dataframe tbody tr th {\n",
       "        vertical-align: top;\n",
       "    }\n",
       "\n",
       "    .dataframe thead th {\n",
       "        text-align: right;\n",
       "    }\n",
       "</style>\n",
       "<table border=\"1\" class=\"dataframe\">\n",
       "  <thead>\n",
       "    <tr style=\"text-align: right;\">\n",
       "      <th></th>\n",
       "      <th>passenger_count</th>\n",
       "      <th>trip_distance</th>\n",
       "      <th>fare_amount</th>\n",
       "      <th>extra</th>\n",
       "      <th>mta_tax</th>\n",
       "      <th>tip_amount</th>\n",
       "      <th>tolls_amount</th>\n",
       "      <th>improvement_surcharge</th>\n",
       "      <th>total_amount</th>\n",
       "      <th>congestion_surcharge</th>\n",
       "    </tr>\n",
       "  </thead>\n",
       "  <tbody>\n",
       "    <tr>\n",
       "      <th>count</th>\n",
       "      <td>59988.000000</td>\n",
       "      <td>64809.000000</td>\n",
       "      <td>64809.000000</td>\n",
       "      <td>64809.000000</td>\n",
       "      <td>64809.000000</td>\n",
       "      <td>64809.000000</td>\n",
       "      <td>64809.000000</td>\n",
       "      <td>64809.000000</td>\n",
       "      <td>64809.000000</td>\n",
       "      <td>59988.000000</td>\n",
       "    </tr>\n",
       "    <tr>\n",
       "      <th>mean</th>\n",
       "      <td>1.294792</td>\n",
       "      <td>13.696354</td>\n",
       "      <td>16.646276</td>\n",
       "      <td>0.844270</td>\n",
       "      <td>0.571364</td>\n",
       "      <td>2.153087</td>\n",
       "      <td>0.182798</td>\n",
       "      <td>0.952858</td>\n",
       "      <td>21.884576</td>\n",
       "      <td>0.733793</td>\n",
       "    </tr>\n",
       "    <tr>\n",
       "      <th>std</th>\n",
       "      <td>0.944409</td>\n",
       "      <td>931.311966</td>\n",
       "      <td>12.650412</td>\n",
       "      <td>1.280076</td>\n",
       "      <td>0.386753</td>\n",
       "      <td>2.846365</td>\n",
       "      <td>1.161675</td>\n",
       "      <td>0.198828</td>\n",
       "      <td>14.721413</td>\n",
       "      <td>1.216754</td>\n",
       "    </tr>\n",
       "    <tr>\n",
       "      <th>min</th>\n",
       "      <td>0.000000</td>\n",
       "      <td>0.000000</td>\n",
       "      <td>-113.490000</td>\n",
       "      <td>-2.500000</td>\n",
       "      <td>-0.500000</td>\n",
       "      <td>-0.900000</td>\n",
       "      <td>-6.550000</td>\n",
       "      <td>-1.000000</td>\n",
       "      <td>-94.840000</td>\n",
       "      <td>-2.750000</td>\n",
       "    </tr>\n",
       "    <tr>\n",
       "      <th>25%</th>\n",
       "      <td>1.000000</td>\n",
       "      <td>1.130000</td>\n",
       "      <td>9.300000</td>\n",
       "      <td>0.000000</td>\n",
       "      <td>0.500000</td>\n",
       "      <td>0.000000</td>\n",
       "      <td>0.000000</td>\n",
       "      <td>1.000000</td>\n",
       "      <td>12.960000</td>\n",
       "      <td>0.000000</td>\n",
       "    </tr>\n",
       "    <tr>\n",
       "      <th>50%</th>\n",
       "      <td>1.000000</td>\n",
       "      <td>1.890000</td>\n",
       "      <td>13.500000</td>\n",
       "      <td>0.000000</td>\n",
       "      <td>0.500000</td>\n",
       "      <td>1.720000</td>\n",
       "      <td>0.000000</td>\n",
       "      <td>1.000000</td>\n",
       "      <td>18.000000</td>\n",
       "      <td>0.000000</td>\n",
       "    </tr>\n",
       "    <tr>\n",
       "      <th>75%</th>\n",
       "      <td>1.000000</td>\n",
       "      <td>3.350000</td>\n",
       "      <td>19.800000</td>\n",
       "      <td>1.000000</td>\n",
       "      <td>0.500000</td>\n",
       "      <td>3.350000</td>\n",
       "      <td>0.000000</td>\n",
       "      <td>1.000000</td>\n",
       "      <td>26.320000</td>\n",
       "      <td>2.750000</td>\n",
       "    </tr>\n",
       "    <tr>\n",
       "      <th>max</th>\n",
       "      <td>9.000000</td>\n",
       "      <td>178919.980000</td>\n",
       "      <td>440.000000</td>\n",
       "      <td>12.700000</td>\n",
       "      <td>4.250000</td>\n",
       "      <td>80.000000</td>\n",
       "      <td>45.350000</td>\n",
       "      <td>1.000000</td>\n",
       "      <td>441.000000</td>\n",
       "      <td>2.750000</td>\n",
       "    </tr>\n",
       "  </tbody>\n",
       "</table>\n",
       "</div>"
      ],
      "text/plain": [
       "       passenger_count  trip_distance   fare_amount         extra  \\\n",
       "count     59988.000000   64809.000000  64809.000000  64809.000000   \n",
       "mean          1.294792      13.696354     16.646276      0.844270   \n",
       "std           0.944409     931.311966     12.650412      1.280076   \n",
       "min           0.000000       0.000000   -113.490000     -2.500000   \n",
       "25%           1.000000       1.130000      9.300000      0.000000   \n",
       "50%           1.000000       1.890000     13.500000      0.000000   \n",
       "75%           1.000000       3.350000     19.800000      1.000000   \n",
       "max           9.000000  178919.980000    440.000000     12.700000   \n",
       "\n",
       "            mta_tax    tip_amount  tolls_amount  improvement_surcharge  \\\n",
       "count  64809.000000  64809.000000  64809.000000           64809.000000   \n",
       "mean       0.571364      2.153087      0.182798               0.952858   \n",
       "std        0.386753      2.846365      1.161675               0.198828   \n",
       "min       -0.500000     -0.900000     -6.550000              -1.000000   \n",
       "25%        0.500000      0.000000      0.000000               1.000000   \n",
       "50%        0.500000      1.720000      0.000000               1.000000   \n",
       "75%        0.500000      3.350000      0.000000               1.000000   \n",
       "max        4.250000     80.000000     45.350000               1.000000   \n",
       "\n",
       "       total_amount  congestion_surcharge  \n",
       "count  64809.000000          59988.000000  \n",
       "mean      21.884576              0.733793  \n",
       "std       14.721413              1.216754  \n",
       "min      -94.840000             -2.750000  \n",
       "25%       12.960000              0.000000  \n",
       "50%       18.000000              0.000000  \n",
       "75%       26.320000              2.750000  \n",
       "max      441.000000              2.750000  "
      ]
     },
     "execution_count": 12,
     "metadata": {},
     "output_type": "execute_result"
    }
   ],
   "source": [
    "newyork[numcols].describe()"
   ]
  },
  {
   "cell_type": "markdown",
   "id": "b76a0e11",
   "metadata": {},
   "source": [
    "# Imputing with Median"
   ]
  },
  {
   "cell_type": "code",
   "execution_count": 13,
   "id": "e402e641",
   "metadata": {},
   "outputs": [],
   "source": [
    "# Impute with Median\n",
    "for col in numcols:\n",
    "    newyork[col]=newyork[col].fillna(newyork[col].median())"
   ]
  },
  {
   "cell_type": "markdown",
   "id": "ab1608e7",
   "metadata": {},
   "source": [
    "# Using datetime variables to calculate trip_duration"
   ]
  },
  {
   "cell_type": "code",
   "execution_count": 14,
   "id": "dd04189f",
   "metadata": {},
   "outputs": [],
   "source": [
    "# Using datetime variables calculate trip_duration\n",
    "newyork['trip_duration']=newyork.lpep_dropoff_datetime-newyork.lpep_pickup_datetime"
   ]
  },
  {
   "cell_type": "code",
   "execution_count": 15,
   "id": "5b959a8c",
   "metadata": {},
   "outputs": [],
   "source": [
    "newyork.trip_duration=newyork.trip_duration.dt.total_seconds()/60"
   ]
  },
  {
   "cell_type": "code",
   "execution_count": 16,
   "id": "5840d55e",
   "metadata": {},
   "outputs": [
    {
     "data": {
      "text/plain": [
       "0    19.583333\n",
       "1    17.550000\n",
       "2    23.716667\n",
       "3    20.733333\n",
       "4    10.950000\n",
       "Name: trip_duration, dtype: float64"
      ]
     },
     "execution_count": 16,
     "metadata": {},
     "output_type": "execute_result"
    }
   ],
   "source": [
    "newyork.trip_duration.head()"
   ]
  },
  {
   "cell_type": "code",
   "execution_count": 17,
   "id": "3b0902c0",
   "metadata": {},
   "outputs": [
    {
     "data": {
      "text/plain": [
       "count    64809.000000\n",
       "mean        17.744897\n",
       "std         69.280970\n",
       "min          0.000000\n",
       "25%          7.250000\n",
       "50%         11.500000\n",
       "75%         17.783333\n",
       "max       1439.633333\n",
       "Name: trip_duration, dtype: float64"
      ]
     },
     "execution_count": 17,
     "metadata": {},
     "output_type": "execute_result"
    }
   ],
   "source": [
    "newyork.trip_duration.describe()"
   ]
  },
  {
   "cell_type": "markdown",
   "id": "0722ecb3",
   "metadata": {},
   "source": [
    "# Extract New variables from datetime variables"
   ]
  },
  {
   "cell_type": "code",
   "execution_count": 18,
   "id": "5c90ecdc",
   "metadata": {},
   "outputs": [],
   "source": [
    "# Extract New variables from datetime variables\n",
    "newyork['weekday']=newyork.lpep_dropoff_datetime.dt.weekday"
   ]
  },
  {
   "cell_type": "code",
   "execution_count": 19,
   "id": "d99c970a",
   "metadata": {},
   "outputs": [
    {
     "data": {
      "text/plain": [
       "4    10691\n",
       "3    10370\n",
       "2    10172\n",
       "1     9468\n",
       "0     8700\n",
       "5     8269\n",
       "6     7139\n",
       "Name: weekday, dtype: int64"
      ]
     },
     "execution_count": 19,
     "metadata": {},
     "output_type": "execute_result"
    }
   ],
   "source": [
    "newyork.weekday.value_counts() # Sunday(0) to Saturday(6)"
   ]
  },
  {
   "cell_type": "code",
   "execution_count": 20,
   "id": "c3449cee",
   "metadata": {},
   "outputs": [],
   "source": [
    "newyork['hourofday']=newyork.lpep_dropoff_datetime.dt.hour"
   ]
  },
  {
   "cell_type": "code",
   "execution_count": 21,
   "id": "2db037a2",
   "metadata": {},
   "outputs": [
    {
     "data": {
      "text/plain": [
       "18    5105\n",
       "16    5076\n",
       "17    5055\n",
       "15    4461\n",
       "19    4242\n",
       "14    3978\n",
       "13    3646\n",
       "12    3477\n",
       "20    3442\n",
       "11    3433\n",
       "10    3432\n",
       "9     3384\n",
       "8     2845\n",
       "21    2564\n",
       "22    2120\n",
       "7     2054\n",
       "23    1708\n",
       "0     1242\n",
       "1      862\n",
       "6      721\n",
       "2      637\n",
       "3      503\n",
       "4      492\n",
       "5      330\n",
       "Name: hourofday, dtype: int64"
      ]
     },
     "execution_count": 21,
     "metadata": {},
     "output_type": "execute_result"
    }
   ],
   "source": [
    "newyork.hourofday.value_counts()"
   ]
  },
  {
   "cell_type": "markdown",
   "id": "b6358b4a",
   "metadata": {},
   "source": [
    "# EDA-Exploratory data analysis"
   ]
  },
  {
   "cell_type": "code",
   "execution_count": 22,
   "id": "f8d295df",
   "metadata": {},
   "outputs": [
    {
     "data": {
      "text/plain": [
       "<Axes: >"
      ]
     },
     "execution_count": 22,
     "metadata": {},
     "output_type": "execute_result"
    },
    {
     "data": {
      "image/png": "[encoded data removed]",
      "text/plain": [
       "<Figure size 640x480 with 1 Axes>"
      ]
     },
     "metadata": {},
     "output_type": "display_data"
    }
   ],
   "source": [
    "# EDA - Number of Rides per hour\n",
    "newyork.hourofday.value_counts().plot(kind='bar')"
   ]
  },
  {
   "cell_type": "code",
   "execution_count": 23,
   "id": "58bdd246",
   "metadata": {},
   "outputs": [
    {
     "data": {
      "text/plain": [
       "hourofday\n",
       "18    2.337209\n",
       "19    2.335306\n",
       "20    2.299460\n",
       "4     2.288150\n",
       "17    2.288115\n",
       "3     2.284553\n",
       "21    2.274403\n",
       "2     2.255683\n",
       "22    2.200679\n",
       "6     2.199820\n",
       "1     2.185824\n",
       "7     2.138447\n",
       "9     2.125810\n",
       "23    2.124479\n",
       "16    2.122642\n",
       "8     2.119490\n",
       "10    2.069630\n",
       "14    2.047275\n",
       "5     2.038636\n",
       "11    2.013868\n",
       "15    2.008911\n",
       "0     2.006965\n",
       "12    2.006040\n",
       "13    1.991064\n",
       "Name: tip_amount, dtype: float64"
      ]
     },
     "execution_count": 23,
     "metadata": {},
     "output_type": "execute_result"
    }
   ],
   "source": [
    "# Average tip_amount hourwise\n",
    "newyork.tip_amount.groupby(\n",
    "    newyork.hourofday).mean().sort_values(ascending=False)"
   ]
  },
  {
   "cell_type": "code",
   "execution_count": 24,
   "id": "a51b894e",
   "metadata": {},
   "outputs": [
    {
     "data": {
      "text/plain": [
       "hourofday\n",
       "5     29.790424\n",
       "4     26.723130\n",
       "3     25.431133\n",
       "1     23.512169\n",
       "2     22.873077\n",
       "17    22.767988\n",
       "19    22.524434\n",
       "18    22.452836\n",
       "0     22.359509\n",
       "6     22.109723\n",
       "23    21.963144\n",
       "16    21.948968\n",
       "11    21.782703\n",
       "9     21.668357\n",
       "20    21.655445\n",
       "12    21.583762\n",
       "21    21.512504\n",
       "14    21.424771\n",
       "10    21.403258\n",
       "15    21.369393\n",
       "22    21.225849\n",
       "13    21.192671\n",
       "8     21.124218\n",
       "7     19.757717\n",
       "Name: total_amount, dtype: float64"
      ]
     },
     "execution_count": 24,
     "metadata": {},
     "output_type": "execute_result"
    }
   ],
   "source": [
    "# Average total_amount hourwise\n",
    "newyork.total_amount.groupby(\n",
    "    newyork.hourofday).mean().sort_values(ascending=False)"
   ]
  },
  {
   "cell_type": "code",
   "execution_count": 25,
   "id": "25ae290a",
   "metadata": {},
   "outputs": [],
   "source": [
    "# Test Null Average total_amount of different trip_type equal\n",
    "# Test Null Average tip_amount of different trip_type equal\n",
    "\n",
    "# Test Null Average total_amount of different weekday equal\n",
    "# Test Null Average tip_amount of different weekday equal\n",
    "\n",
    "# Test Null No Association between trip_type and payment_type\n",
    "# Test Null No Association between weekday and payment_type"
   ]
  },
  {
   "cell_type": "code",
   "execution_count": 26,
   "id": "39c2b7b0",
   "metadata": {},
   "outputs": [
    {
     "data": {
      "text/plain": [
       "trip_type\n",
       "1.0    21.681149\n",
       "2.0    29.377536\n",
       "Name: total_amount, dtype: float64"
      ]
     },
     "execution_count": 26,
     "metadata": {},
     "output_type": "execute_result"
    }
   ],
   "source": [
    "# Test Null Average total_amount of different trip_type equal\n",
    "newyork.total_amount.groupby(newyork.trip_type).mean()"
   ]
  },
  {
   "cell_type": "code",
   "execution_count": 27,
   "id": "196cc3be",
   "metadata": {},
   "outputs": [
    {
     "data": {
      "text/plain": [
       "trip_type\n",
       "1.0    194.936081\n",
       "2.0    961.980543\n",
       "Name: total_amount, dtype: float64"
      ]
     },
     "execution_count": 27,
     "metadata": {},
     "output_type": "execute_result"
    }
   ],
   "source": [
    "newyork.total_amount.groupby(newyork.trip_type).var()"
   ]
  },
  {
   "cell_type": "markdown",
   "id": "6dcbdd3a",
   "metadata": {},
   "source": [
    "# Spliting Data"
   ]
  },
  {
   "cell_type": "code",
   "execution_count": 28,
   "id": "467218e5",
   "metadata": {},
   "outputs": [],
   "source": [
    "# split data \n",
    "triptype1=newyork[newyork.trip_type==1.0]\n",
    "triptype2=newyork[newyork.trip_type==2.0]"
   ]
  },
  {
   "cell_type": "markdown",
   "id": "6f00380c",
   "metadata": {},
   "source": [
    "# Hypothesis Testing"
   ]
  },
  {
   "cell_type": "code",
   "execution_count": 29,
   "id": "f695ccc0",
   "metadata": {},
   "outputs": [],
   "source": [
    "from scipy.stats import ttest_ind"
   ]
  },
  {
   "cell_type": "code",
   "execution_count": 30,
   "id": "f21cd6e1",
   "metadata": {},
   "outputs": [
    {
     "data": {
      "text/plain": [
       "Ttest_indResult(statistic=-10.242149184539398, pvalue=6.091378571108912e-24)"
      ]
     },
     "execution_count": 30,
     "metadata": {},
     "output_type": "execute_result"
    }
   ],
   "source": [
    "ttest_ind(triptype1.total_amount,triptype2.total_amount,equal_var=False)"
   ]
  },
  {
   "cell_type": "code",
   "execution_count": 31,
   "id": "02cbfafd",
   "metadata": {},
   "outputs": [
    {
     "data": {
      "text/plain": [
       "weekday\n",
       "0    21.374454\n",
       "1    22.016884\n",
       "2    21.856680\n",
       "3    22.322946\n",
       "4    21.970345\n",
       "5    21.681435\n",
       "6    21.840600\n",
       "Name: total_amount, dtype: float64"
      ]
     },
     "execution_count": 31,
     "metadata": {},
     "output_type": "execute_result"
    }
   ],
   "source": [
    "newyork.total_amount.groupby(newyork.weekday).mean()"
   ]
  },
  {
   "cell_type": "code",
   "execution_count": 32,
   "id": "8080ba12",
   "metadata": {},
   "outputs": [],
   "source": [
    "#split data\n",
    "sun=newyork[newyork.weekday==0]\n",
    "mon=newyork[newyork.weekday==1]\n",
    "tue=newyork[newyork.weekday==2]\n",
    "wed=newyork[newyork.weekday==3]\n",
    "thu=newyork[newyork.weekday==4]\n",
    "fri=newyork[newyork.weekday==5]\n",
    "sat=newyork[newyork.weekday==6]\n"
   ]
  },
  {
   "cell_type": "code",
   "execution_count": 33,
   "id": "8e59c50b",
   "metadata": {},
   "outputs": [],
   "source": [
    "from scipy.stats import f_oneway"
   ]
  },
  {
   "cell_type": "code",
   "execution_count": 34,
   "id": "365414f8",
   "metadata": {},
   "outputs": [
    {
     "data": {
      "text/plain": [
       "F_onewayResult(statistic=3.741626502641873, pvalue=0.0010046928455678932)"
      ]
     },
     "execution_count": 34,
     "metadata": {},
     "output_type": "execute_result"
    }
   ],
   "source": [
    "f_oneway(sun.total_amount,mon.total_amount,tue.total_amount,\n",
    "         wed.total_amount,thu.total_amount,fri.total_amount,sat.total_amount)\n",
    "\n",
    "#since pvalue=0.0010046928455678932 is less than 0/05, reject null.\n",
    "# null no significant difference in average tip_amount of different weekday"
   ]
  },
  {
   "cell_type": "code",
   "execution_count": 35,
   "id": "c7c3ab8f",
   "metadata": {},
   "outputs": [
    {
     "data": {
      "text/plain": [
       "weekday\n",
       "0    2.059671\n",
       "1    2.127444\n",
       "2    2.177197\n",
       "3    2.211572\n",
       "4    2.133102\n",
       "5    2.143962\n",
       "6    2.222129\n",
       "Name: tip_amount, dtype: float64"
      ]
     },
     "execution_count": 35,
     "metadata": {},
     "output_type": "execute_result"
    }
   ],
   "source": [
    "newyork.tip_amount.groupby(newyork.weekday).mean()"
   ]
  },
  {
   "cell_type": "code",
   "execution_count": 36,
   "id": "3673134d",
   "metadata": {},
   "outputs": [
    {
     "data": {
      "text/plain": [
       "F_onewayResult(statistic=3.343992139755747, pvalue=0.0027004822029087004)"
      ]
     },
     "execution_count": 36,
     "metadata": {},
     "output_type": "execute_result"
    }
   ],
   "source": [
    "f_oneway(sun.tip_amount,mon.tip_amount,tue.tip_amount,\n",
    "         wed.tip_amount,thu.tip_amount,fri.tip_amount,sat.tip_amount,)\n",
    "\n",
    "#since pvalue=0.0027004822029087004 is less than 0/05, reject null.\n",
    "# null no significant difference in average tip_amount of different weekday"
   ]
  },
  {
   "cell_type": "code",
   "execution_count": 37,
   "id": "67a6a9d9",
   "metadata": {},
   "outputs": [],
   "source": [
    "from scipy.stats import chi2_contingency"
   ]
  },
  {
   "cell_type": "code",
   "execution_count": 38,
   "id": "9b76dbe1",
   "metadata": {},
   "outputs": [
    {
     "data": {
      "text/plain": [
       "Chi2ContingencyResult(statistic=33.6260027951775, pvalue=2.3761129590419677e-07, dof=3, expected_freq=array([[4.22236652e+04, 2.02930615e+04, 4.68286442e+02, 1.10986807e+02],\n",
       "       [1.14633477e+03, 5.50938481e+02, 1.27135583e+01, 3.01319261e+00]]))"
      ]
     },
     "execution_count": 38,
     "metadata": {},
     "output_type": "execute_result"
    }
   ],
   "source": [
    "chi2_contingency(pd.crosstab(newyork.trip_type,newyork.payment_type))\n",
    "\n",
    "#since pvalue=2.3761129590419677e-07 is less than 0/05, reject null.\n",
    "# null no association between both variable"
   ]
  },
  {
   "cell_type": "code",
   "execution_count": 106,
   "id": "7df034fb",
   "metadata": {},
   "outputs": [
    {
     "data": {
      "text/html": [
       "<div>\n",
       "<style scoped>\n",
       "    .dataframe tbody tr th:only-of-type {\n",
       "        vertical-align: middle;\n",
       "    }\n",
       "\n",
       "    .dataframe tbody tr th {\n",
       "        vertical-align: top;\n",
       "    }\n",
       "\n",
       "    .dataframe thead th {\n",
       "        text-align: right;\n",
       "    }\n",
       "</style>\n",
       "<table border=\"1\" class=\"dataframe\">\n",
       "  <thead>\n",
       "    <tr style=\"text-align: right;\">\n",
       "      <th>payment_type</th>\n",
       "      <th>1.0</th>\n",
       "      <th>2.0</th>\n",
       "      <th>3.0</th>\n",
       "      <th>4.0</th>\n",
       "    </tr>\n",
       "    <tr>\n",
       "      <th>weekday</th>\n",
       "      <th></th>\n",
       "      <th></th>\n",
       "      <th></th>\n",
       "      <th></th>\n",
       "    </tr>\n",
       "  </thead>\n",
       "  <tbody>\n",
       "    <tr>\n",
       "      <th>0</th>\n",
       "      <td>5703</td>\n",
       "      <td>2925</td>\n",
       "      <td>62</td>\n",
       "      <td>10</td>\n",
       "    </tr>\n",
       "    <tr>\n",
       "      <th>1</th>\n",
       "      <td>6297</td>\n",
       "      <td>3099</td>\n",
       "      <td>60</td>\n",
       "      <td>12</td>\n",
       "    </tr>\n",
       "    <tr>\n",
       "      <th>2</th>\n",
       "      <td>6865</td>\n",
       "      <td>3203</td>\n",
       "      <td>86</td>\n",
       "      <td>18</td>\n",
       "    </tr>\n",
       "    <tr>\n",
       "      <th>3</th>\n",
       "      <td>7050</td>\n",
       "      <td>3221</td>\n",
       "      <td>80</td>\n",
       "      <td>19</td>\n",
       "    </tr>\n",
       "    <tr>\n",
       "      <th>4</th>\n",
       "      <td>7132</td>\n",
       "      <td>3452</td>\n",
       "      <td>80</td>\n",
       "      <td>27</td>\n",
       "    </tr>\n",
       "    <tr>\n",
       "      <th>5</th>\n",
       "      <td>5496</td>\n",
       "      <td>2706</td>\n",
       "      <td>48</td>\n",
       "      <td>19</td>\n",
       "    </tr>\n",
       "    <tr>\n",
       "      <th>6</th>\n",
       "      <td>4827</td>\n",
       "      <td>2238</td>\n",
       "      <td>65</td>\n",
       "      <td>9</td>\n",
       "    </tr>\n",
       "  </tbody>\n",
       "</table>\n",
       "</div>"
      ],
      "text/plain": [
       "payment_type   1.0   2.0  3.0  4.0\n",
       "weekday                           \n",
       "0             5703  2925   62   10\n",
       "1             6297  3099   60   12\n",
       "2             6865  3203   86   18\n",
       "3             7050  3221   80   19\n",
       "4             7132  3452   80   27\n",
       "5             5496  2706   48   19\n",
       "6             4827  2238   65    9"
      ]
     },
     "execution_count": 106,
     "metadata": {},
     "output_type": "execute_result"
    }
   ],
   "source": [
    "pd.crosstab(newyork.weekday,newyork.payment_type)"
   ]
  },
  {
   "cell_type": "code",
   "execution_count": 39,
   "id": "bd013901",
   "metadata": {
    "scrolled": true
   },
   "outputs": [
    {
     "data": {
      "text/plain": [
       "Chi2ContingencyResult(statistic=38.09473867395175, pvalue=0.003763076702047103, dof=18, expected_freq=array([[5822.01546082, 2798.11137342,   64.56973568,   15.30343008],\n",
       "       [6335.9588946 , 3045.11706707,   70.26968477,   16.65435356],\n",
       "       [6807.0737089 , 3271.53895292,   75.49463809,   17.89270009],\n",
       "       [6939.57475042, 3335.22010832,   76.96415621,   18.24098505],\n",
       "       [7154.38704501, 3438.46076934,   79.34655681,   18.80562885],\n",
       "       [5533.59147649, 2659.49229274,   61.37093614,   14.54529464],\n",
       "       [4777.39866377, 2296.05943619,   52.98429231,   12.55760774]]))"
      ]
     },
     "execution_count": 39,
     "metadata": {},
     "output_type": "execute_result"
    }
   ],
   "source": [
    "chi2_contingency(pd.crosstab(newyork.weekday,\n",
    "                            newyork.payment_type))\n",
    "#since pvalue=0.003763076702047103 is less than 0/05, reject null.\n",
    "# null no association between both variable"
   ]
  },
  {
   "cell_type": "code",
   "execution_count": 40,
   "id": "c58a5e6d",
   "metadata": {},
   "outputs": [],
   "source": [
    "newyork['dayofmonth']=newyork.lpep_dropoff_datetime.dt.day"
   ]
  },
  {
   "cell_type": "code",
   "execution_count": 41,
   "id": "1cadbbc9",
   "metadata": {},
   "outputs": [
    {
     "data": {
      "text/plain": [
       "<Axes: xlabel='dayofmonth'>"
      ]
     },
     "execution_count": 41,
     "metadata": {},
     "output_type": "execute_result"
    },
    {
     "data": {
      "image/png": "[encoded data removed]",
      "text/plain": [
       "<Figure size 640x480 with 1 Axes>"
      ]
     },
     "metadata": {},
     "output_type": "display_data"
    }
   ],
   "source": [
    "newyork.total_amount.groupby(\n",
    "newyork.dayofmonth).count().plot(kind='line')"
   ]
  },
  {
   "cell_type": "markdown",
   "id": "c3c6911a",
   "metadata": {},
   "source": [
    "# Spliting Data into numcols and catcols"
   ]
  },
  {
   "cell_type": "code",
   "execution_count": 42,
   "id": "eb5f95db",
   "metadata": {},
   "outputs": [],
   "source": [
    "#Split Data into numcols and catcols\n",
    "numcols=newyork[['passenger_count', 'trip_distance', \n",
    "                 'fare_amount', 'extra', 'mta_tax','tip_amount', \n",
    "                 'tolls_amount', 'improvement_surcharge', \n",
    "                 'total_amount','congestion_surcharge',\n",
    "                 'trip_duration']]"
   ]
  },
  {
   "cell_type": "code",
   "execution_count": 43,
   "id": "08564b8e",
   "metadata": {},
   "outputs": [],
   "source": [
    "catcols=newyork[['store_and_fwd_flag','RatecodeID',\n",
    "                 'payment_type','trip_type','weekday',\n",
    "                'hourofday']]"
   ]
  },
  {
   "cell_type": "code",
   "execution_count": 44,
   "id": "4e0906f8",
   "metadata": {},
   "outputs": [],
   "source": [
    "catcols_dummy=pd.get_dummies(catcols,columns=['store_and_fwd_flag','RatecodeID',\n",
    "                 'payment_type','trip_type','weekday',\n",
    "                'hourofday'])"
   ]
  },
  {
   "cell_type": "code",
   "execution_count": 45,
   "id": "6d6f7fd7",
   "metadata": {},
   "outputs": [
    {
     "name": "stdout",
     "output_type": "stream",
     "text": [
      "(64809, 6)\n",
      "(64809, 46)\n"
     ]
    }
   ],
   "source": [
    "print(catcols.shape)\n",
    "print(catcols_dummy.shape)"
   ]
  },
  {
   "cell_type": "code",
   "execution_count": 46,
   "id": "024330f5",
   "metadata": {},
   "outputs": [],
   "source": [
    "import seaborn as sns"
   ]
  },
  {
   "cell_type": "code",
   "execution_count": 47,
   "id": "b6088033",
   "metadata": {},
   "outputs": [
    {
     "data": {
      "text/plain": [
       "<Axes: >"
      ]
     },
     "execution_count": 47,
     "metadata": {},
     "output_type": "execute_result"
    },
    {
     "data": {
      "image/png": "[encoded data removed]",
      "text/plain": [
       "<Figure size 1500x1000 with 2 Axes>"
      ]
     },
     "metadata": {},
     "output_type": "display_data"
    }
   ],
   "source": [
    "plt.figure(figsize=(15,10))\n",
    "sns.heatmap(numcols.corr(),annot=True)"
   ]
  },
  {
   "cell_type": "code",
   "execution_count": 48,
   "id": "040757c1",
   "metadata": {},
   "outputs": [],
   "source": [
    "numcols=numcols.drop('fare_amount',axis=1)"
   ]
  },
  {
   "cell_type": "code",
   "execution_count": 49,
   "id": "28d983f0",
   "metadata": {},
   "outputs": [
    {
     "data": {
      "text/plain": [
       "<Axes: >"
      ]
     },
     "execution_count": 49,
     "metadata": {},
     "output_type": "execute_result"
    },
    {
     "data": {
      "image/png": "[encoded data removed]",
      "text/plain": [
       "<Figure size 640x480 with 1 Axes>"
      ]
     },
     "metadata": {},
     "output_type": "display_data"
    }
   ],
   "source": [
    "sns.boxplot(numcols.drop(['trip_distance',\n",
    "                          'trip_duration',\n",
    "                         'total_amount'],axis=1),orient='h')\n",
    "# Outliers in most variables"
   ]
  },
  {
   "cell_type": "code",
   "execution_count": 50,
   "id": "a7487a2c",
   "metadata": {},
   "outputs": [],
   "source": [
    "from sklearn.preprocessing import RobustScaler"
   ]
  },
  {
   "cell_type": "code",
   "execution_count": 51,
   "id": "dadb24b8",
   "metadata": {},
   "outputs": [],
   "source": [
    "robust=RobustScaler()"
   ]
  },
  {
   "cell_type": "code",
   "execution_count": 52,
   "id": "67291727",
   "metadata": {},
   "outputs": [],
   "source": [
    "numcols=numcols.drop('total_amount',axis=1)"
   ]
  },
  {
   "cell_type": "code",
   "execution_count": 53,
   "id": "2eaa4672",
   "metadata": {},
   "outputs": [],
   "source": [
    "numcols_robust=robust.fit_transform(numcols)"
   ]
  },
  {
   "cell_type": "code",
   "execution_count": 54,
   "id": "9b8eecd9",
   "metadata": {},
   "outputs": [],
   "source": [
    "numcols_robust=pd.DataFrame(numcols_robust,\n",
    "                            columns=numcols.columns)"
   ]
  },
  {
   "cell_type": "markdown",
   "id": "cb80439c",
   "metadata": {},
   "source": [
    "# Concating both dataframes"
   ]
  },
  {
   "cell_type": "code",
   "execution_count": 55,
   "id": "78547a51",
   "metadata": {},
   "outputs": [],
   "source": [
    "# Concat both dataframes\n",
    "nyctaxi_df=pd.concat([numcols_robust,catcols_dummy],axis=1)"
   ]
  },
  {
   "cell_type": "markdown",
   "id": "56ad3ad8",
   "metadata": {},
   "source": [
    "# Spliting Data into X And Y For Data Modules"
   ]
  },
  {
   "cell_type": "code",
   "execution_count": 56,
   "id": "7e897736",
   "metadata": {},
   "outputs": [],
   "source": [
    "y=newyork.total_amount\n",
    "X=nyctaxi_df"
   ]
  },
  {
   "cell_type": "code",
   "execution_count": 57,
   "id": "6c96a472",
   "metadata": {},
   "outputs": [
    {
     "name": "stderr",
     "output_type": "stream",
     "text": [
      "C:\\Users\\ailla\\anaconda3\\Lib\\site-packages\\pandas\\core\\arraylike.py:402: RuntimeWarning: divide by zero encountered in log\n",
      "  result = getattr(ufunc, method)(*inputs, **kwargs)\n",
      "C:\\Users\\ailla\\anaconda3\\Lib\\site-packages\\pandas\\core\\arraylike.py:402: RuntimeWarning: invalid value encountered in log\n",
      "  result = getattr(ufunc, method)(*inputs, **kwargs)\n"
     ]
    },
    {
     "data": {
      "text/plain": [
       "<Axes: >"
      ]
     },
     "execution_count": 57,
     "metadata": {},
     "output_type": "execute_result"
    },
    {
     "data": {
      "image/png": "[encoded data removed]",
      "text/plain": [
       "<Figure size 640x480 with 1 Axes>"
      ]
     },
     "metadata": {},
     "output_type": "display_data"
    }
   ],
   "source": [
    "np.log(y).plot(kind='box',vert=False)"
   ]
  },
  {
   "cell_type": "code",
   "execution_count": 58,
   "id": "9c749549",
   "metadata": {},
   "outputs": [],
   "source": [
    "from sklearn.model_selection import train_test_split"
   ]
  },
  {
   "cell_type": "code",
   "execution_count": 59,
   "id": "5a652602",
   "metadata": {},
   "outputs": [],
   "source": [
    "# Split Data into Train(75%) & Test(25%)\n",
    "X_train,X_test,y_train,y_test=train_test_split(X,y,\n",
    "                                               test_size=0.25,\n",
    "                                               random_state=42)"
   ]
  },
  {
   "cell_type": "markdown",
   "id": "00018428",
   "metadata": {},
   "source": [
    "# Linear Regression"
   ]
  },
  {
   "cell_type": "code",
   "execution_count": 60,
   "id": "c897f495",
   "metadata": {},
   "outputs": [],
   "source": [
    "from sklearn.linear_model import LinearRegression"
   ]
  },
  {
   "cell_type": "code",
   "execution_count": 61,
   "id": "2f2db459",
   "metadata": {},
   "outputs": [],
   "source": [
    "reg=LinearRegression()"
   ]
  },
  {
   "cell_type": "code",
   "execution_count": 62,
   "id": "06db0ade",
   "metadata": {},
   "outputs": [],
   "source": [
    "regmodel=reg.fit(X_train,y_train)"
   ]
  },
  {
   "cell_type": "code",
   "execution_count": 63,
   "id": "f18c76d8",
   "metadata": {},
   "outputs": [
    {
     "data": {
      "text/plain": [
       "0.48414927813761577"
      ]
     },
     "execution_count": 63,
     "metadata": {},
     "output_type": "execute_result"
    }
   ],
   "source": [
    "regmodel.score(X_train,y_train)"
   ]
  },
  {
   "cell_type": "code",
   "execution_count": 64,
   "id": "9fa4ef31",
   "metadata": {},
   "outputs": [],
   "source": [
    "reg_train_pred=regmodel.predict(X_train)"
   ]
  },
  {
   "cell_type": "code",
   "execution_count": 65,
   "id": "430c1a6f",
   "metadata": {},
   "outputs": [],
   "source": [
    "reg_train_resid=y_train-reg_train_pred"
   ]
  },
  {
   "cell_type": "code",
   "execution_count": 66,
   "id": "8884b5b3",
   "metadata": {},
   "outputs": [
    {
     "data": {
      "text/plain": [
       "10.554617587762403"
      ]
     },
     "execution_count": 66,
     "metadata": {},
     "output_type": "execute_result"
    }
   ],
   "source": [
    "np.sqrt(np.mean(reg_train_resid**2)) # RMSE"
   ]
  },
  {
   "cell_type": "code",
   "execution_count": 67,
   "id": "9c5311f1",
   "metadata": {},
   "outputs": [],
   "source": [
    "reg_test_pred=regmodel.predict(X_test)"
   ]
  },
  {
   "cell_type": "code",
   "execution_count": 68,
   "id": "b8968981",
   "metadata": {},
   "outputs": [],
   "source": [
    "reg_test_resid=y_test-reg_test_pred"
   ]
  },
  {
   "cell_type": "code",
   "execution_count": 69,
   "id": "1456b788",
   "metadata": {},
   "outputs": [
    {
     "data": {
      "text/plain": [
       "10.978791692838895"
      ]
     },
     "execution_count": 69,
     "metadata": {},
     "output_type": "execute_result"
    }
   ],
   "source": [
    "np.sqrt(np.mean(reg_test_resid**2)) # RMSE"
   ]
  },
  {
   "cell_type": "markdown",
   "id": "c45427f6",
   "metadata": {},
   "source": [
    "# Decision Tree"
   ]
  },
  {
   "cell_type": "code",
   "execution_count": 70,
   "id": "8dc34bb2",
   "metadata": {},
   "outputs": [],
   "source": [
    "from sklearn.tree import DecisionTreeRegressor"
   ]
  },
  {
   "cell_type": "code",
   "execution_count": 71,
   "id": "8f220019",
   "metadata": {},
   "outputs": [],
   "source": [
    "tree=DecisionTreeRegressor(max_depth=8)"
   ]
  },
  {
   "cell_type": "code",
   "execution_count": 72,
   "id": "9f9c34d7",
   "metadata": {},
   "outputs": [],
   "source": [
    "treemodel=tree.fit(X_train,y_train)"
   ]
  },
  {
   "cell_type": "code",
   "execution_count": 73,
   "id": "3debdd1a",
   "metadata": {},
   "outputs": [
    {
     "data": {
      "text/plain": [
       "0.8799775897338369"
      ]
     },
     "execution_count": 73,
     "metadata": {},
     "output_type": "execute_result"
    }
   ],
   "source": [
    "treemodel.score(X_train,y_train)"
   ]
  },
  {
   "cell_type": "code",
   "execution_count": 74,
   "id": "faf84e9c",
   "metadata": {},
   "outputs": [],
   "source": [
    "from sklearn.model_selection import cross_val_score"
   ]
  },
  {
   "cell_type": "code",
   "execution_count": 75,
   "id": "2b2ed7b3",
   "metadata": {},
   "outputs": [
    {
     "data": {
      "text/plain": [
       "array([0.86734944, 0.83345602, 0.75852154, 0.84846357, 0.88285549])"
      ]
     },
     "execution_count": 75,
     "metadata": {},
     "output_type": "execute_result"
    }
   ],
   "source": [
    "cross_val_score(tree,X_train,y_train)"
   ]
  },
  {
   "cell_type": "code",
   "execution_count": 76,
   "id": "52131c15",
   "metadata": {},
   "outputs": [
    {
     "data": {
      "text/plain": [
       "0.837959414"
      ]
     },
     "execution_count": 76,
     "metadata": {},
     "output_type": "execute_result"
    }
   ],
   "source": [
    "np.mean([0.86674614, 0.83428582, 0.75785531, 0.84844425, 0.88246555])"
   ]
  },
  {
   "cell_type": "code",
   "execution_count": 77,
   "id": "6a9213d4",
   "metadata": {},
   "outputs": [],
   "source": [
    "tree_train_pred=treemodel.predict(X_train)"
   ]
  },
  {
   "cell_type": "code",
   "execution_count": 78,
   "id": "61d06d86",
   "metadata": {},
   "outputs": [],
   "source": [
    "tree_train_resid=y_train-tree_train_pred"
   ]
  },
  {
   "cell_type": "code",
   "execution_count": 79,
   "id": "3c118094",
   "metadata": {},
   "outputs": [
    {
     "data": {
      "text/plain": [
       "5.091100301915005"
      ]
     },
     "execution_count": 79,
     "metadata": {},
     "output_type": "execute_result"
    }
   ],
   "source": [
    "np.sqrt(np.mean(tree_train_resid**2))   # RMSE"
   ]
  },
  {
   "cell_type": "code",
   "execution_count": 80,
   "id": "73fc7891",
   "metadata": {},
   "outputs": [],
   "source": [
    "tree_test_pred=treemodel.predict(X_test)"
   ]
  },
  {
   "cell_type": "code",
   "execution_count": 81,
   "id": "08975cfc",
   "metadata": {},
   "outputs": [],
   "source": [
    "tree_test_resid=y_test-tree_test_pred"
   ]
  },
  {
   "cell_type": "code",
   "execution_count": 82,
   "id": "fa7b1150",
   "metadata": {},
   "outputs": [
    {
     "data": {
      "text/plain": [
       "6.752278860548865"
      ]
     },
     "execution_count": 82,
     "metadata": {},
     "output_type": "execute_result"
    }
   ],
   "source": [
    "np.sqrt(np.mean(tree_test_resid**2))   # RMSE"
   ]
  },
  {
   "cell_type": "markdown",
   "id": "3d6788f1",
   "metadata": {},
   "source": [
    "# Random Forest"
   ]
  },
  {
   "cell_type": "code",
   "execution_count": 83,
   "id": "3075d7a6",
   "metadata": {},
   "outputs": [],
   "source": [
    "from sklearn.ensemble import RandomForestRegressor"
   ]
  },
  {
   "cell_type": "code",
   "execution_count": 84,
   "id": "58b4ea2e",
   "metadata": {},
   "outputs": [],
   "source": [
    "rf=RandomForestRegressor(n_estimators=1000)"
   ]
  },
  {
   "cell_type": "code",
   "execution_count": 85,
   "id": "afe03a03",
   "metadata": {},
   "outputs": [],
   "source": [
    "rfmodel=rf.fit(X_train,y_train)"
   ]
  },
  {
   "cell_type": "code",
   "execution_count": 86,
   "id": "0006d757",
   "metadata": {},
   "outputs": [
    {
     "data": {
      "text/plain": [
       "0.9836697366612958"
      ]
     },
     "execution_count": 86,
     "metadata": {},
     "output_type": "execute_result"
    }
   ],
   "source": [
    "rfmodel.score(X_train,y_train)"
   ]
  },
  {
   "cell_type": "code",
   "execution_count": 88,
   "id": "a4774341",
   "metadata": {},
   "outputs": [
    {
     "data": {
      "text/plain": [
       "array([0.89437166, 0.85187797, 0.84514696, 0.88242439, 0.91812644])"
      ]
     },
     "execution_count": 88,
     "metadata": {},
     "output_type": "execute_result"
    }
   ],
   "source": [
    "cross_val_score(rf,X_train,y_train)"
   ]
  },
  {
   "cell_type": "code",
   "execution_count": 89,
   "id": "1d65f12d",
   "metadata": {},
   "outputs": [
    {
     "data": {
      "text/plain": [
       "0.878389484"
      ]
     },
     "execution_count": 89,
     "metadata": {},
     "output_type": "execute_result"
    }
   ],
   "source": [
    "np.mean([0.89437166, 0.85187797, 0.84514696, 0.88242439, 0.91812644])"
   ]
  },
  {
   "cell_type": "code",
   "execution_count": 90,
   "id": "97f9cb8e",
   "metadata": {},
   "outputs": [],
   "source": [
    "RF_train_pred=rfmodel.predict(X_train)"
   ]
  },
  {
   "cell_type": "code",
   "execution_count": 91,
   "id": "7d852261",
   "metadata": {},
   "outputs": [],
   "source": [
    "RF_train_resid=y_train-RF_train_pred"
   ]
  },
  {
   "cell_type": "code",
   "execution_count": 92,
   "id": "5a1b43a0",
   "metadata": {},
   "outputs": [
    {
     "data": {
      "text/plain": [
       "1.8779199490052243"
      ]
     },
     "execution_count": 92,
     "metadata": {},
     "output_type": "execute_result"
    }
   ],
   "source": [
    "np.sqrt(np.mean(RF_train_resid**2))   # RMSE"
   ]
  },
  {
   "cell_type": "code",
   "execution_count": 93,
   "id": "d777004e",
   "metadata": {},
   "outputs": [],
   "source": [
    "RF_test_pred=rfmodel.predict(X_test)"
   ]
  },
  {
   "cell_type": "code",
   "execution_count": 94,
   "id": "f022dc19",
   "metadata": {},
   "outputs": [],
   "source": [
    "RF_test_resid=y_test-RF_test_pred"
   ]
  },
  {
   "cell_type": "code",
   "execution_count": 95,
   "id": "e33a519d",
   "metadata": {},
   "outputs": [
    {
     "data": {
      "text/plain": [
       "5.750202144233139"
      ]
     },
     "execution_count": 95,
     "metadata": {},
     "output_type": "execute_result"
    }
   ],
   "source": [
    "np.sqrt(np.mean(RF_test_resid**2))    # RMSE"
   ]
  },
  {
   "cell_type": "markdown",
   "id": "bb4cb741",
   "metadata": {},
   "source": [
    "# Gradient Boosting"
   ]
  },
  {
   "cell_type": "code",
   "execution_count": 96,
   "id": "4561c559",
   "metadata": {},
   "outputs": [],
   "source": [
    "from sklearn.ensemble import GradientBoostingRegressor"
   ]
  },
  {
   "cell_type": "code",
   "execution_count": 97,
   "id": "6e048f20",
   "metadata": {},
   "outputs": [],
   "source": [
    "gbm=GradientBoostingRegressor(n_estimators=2000)"
   ]
  },
  {
   "cell_type": "code",
   "execution_count": 98,
   "id": "0e3ee372",
   "metadata": {},
   "outputs": [],
   "source": [
    "gbmmodel=gbm.fit(X_train,y_train)"
   ]
  },
  {
   "cell_type": "code",
   "execution_count": 99,
   "id": "18ae4004",
   "metadata": {},
   "outputs": [
    {
     "data": {
      "text/plain": [
       "0.9641167739639513"
      ]
     },
     "execution_count": 99,
     "metadata": {},
     "output_type": "execute_result"
    }
   ],
   "source": [
    "gbmmodel.score(X_train,y_train)"
   ]
  },
  {
   "cell_type": "code",
   "execution_count": 100,
   "id": "89790284",
   "metadata": {},
   "outputs": [],
   "source": [
    "gbm_train_pred=gbmmodel.predict(X_train)"
   ]
  },
  {
   "cell_type": "code",
   "execution_count": 101,
   "id": "59454098",
   "metadata": {},
   "outputs": [],
   "source": [
    "gbm_train_resid=y_train-gbm_train_pred"
   ]
  },
  {
   "cell_type": "code",
   "execution_count": 102,
   "id": "013cd052",
   "metadata": {},
   "outputs": [
    {
     "data": {
      "text/plain": [
       "2.783724307910937"
      ]
     },
     "execution_count": 102,
     "metadata": {},
     "output_type": "execute_result"
    }
   ],
   "source": [
    "np.sqrt(np.mean(gbm_train_resid**2))     # RMSE"
   ]
  },
  {
   "cell_type": "code",
   "execution_count": 103,
   "id": "443ef0db",
   "metadata": {},
   "outputs": [],
   "source": [
    "gbm_test_pred=gbmmodel.predict(X_test)"
   ]
  },
  {
   "cell_type": "code",
   "execution_count": 104,
   "id": "53289211",
   "metadata": {},
   "outputs": [],
   "source": [
    "gbm_test_resid=y_test-gbm_test_pred"
   ]
  },
  {
   "cell_type": "code",
   "execution_count": 105,
   "id": "9b922372",
   "metadata": {},
   "outputs": [
    {
     "data": {
      "text/plain": [
       "6.109480037760172"
      ]
     },
     "execution_count": 105,
     "metadata": {},
     "output_type": "execute_result"
    }
   ],
   "source": [
    "np.sqrt(np.mean(gbm_test_resid**2))      # RMSE"
   ]
  },
  {
   "cell_type": "markdown",
   "id": "20e7827d",
   "metadata": {},
   "source": [
    "# Conclusion"
   ]
  },
  {
   "cell_type": "markdown",
   "id": "5cc150c0",
   "metadata": {},
   "source": [
    "Here is the Conlusion of the \"NEWYORK CITY TRIP DURATION PREDICTION Project\",\n",
    "After creating the Linear Regression,Decision Tree,Random Forest,Gradient Boosting models\n",
    "the best fit model is \"RANDOM FOREST\"."
   ]
  },
  {
   "cell_type": "code",
   "execution_count": null,
   "id": "85686a97",
   "metadata": {},
   "outputs": [],
   "source": []
  }
 ],
 "metadata": {
  "kernelspec": {
   "display_name": "Python 3 (ipykernel)",
   "language": "python",
   "name": "python3"
  },
  "language_info": {
   "codemirror_mode": {
    "name": "ipython",
    "version": 3
   },
   "file_extension": ".py",
   "mimetype": "text/x-python",
   "name": "python",
   "nbconvert_exporter": "python",
   "pygments_lexer": "ipython3",
   "version": "3.11.4"
  }
 },
 "nbformat": 4,
 "nbformat_minor": 5
}
